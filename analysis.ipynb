{
 "cells": [
  {
   "cell_type": "markdown",
   "metadata": {},
   "source": [
    "## State of The Art Notes ##\n",
    "\n",
    "### Retrasos\n",
    "\n",
    "* 93000 vuelos diarios\n",
    "* 9000 aeropuertos\n",
    "* 13000 aeronaves en aire\n",
    "* 85% de puntualidad hasta media mañana, 70% en la tarde y 60% a la hora de la cena en temporada estival (climas cálidos y temperaturas altas)\n",
    "* Según CODA (Central Office of Delay) en 2013 los vuelos acumularon de media 9.3 minutos de retrasos donde 30% de ellos se da por faltas de la aerolínea y el 45% por llegada de la aeronave, la tripulación o carga (Reactionary). En 2015 estos retrasos aumentaron a 10.2 minutos\n",
    "\n",
    "### Términos de monetarios del retraso\n",
    "\n",
    "* Un estudio del 2010 de la Administración Federal de Aviación determinó que los retrasos a la industria cuestan 8 billones USD. A los usuarios les cuesta 17 billones USD\n",
    "* Según la Universidad de Westminster en 2004 cada minuto de retraso tiene un coste medio de 25 euros\n",
    "* Las aerolíneas se sienten cómodas bajando su puntualidad (rango de 14 minutos de llegada tarde) a un 30% o 40% de las veces.\n",
    "\n",
    "### Retrasos en Europa\n",
    "\n",
    "* En Mayo del 2015 El Tiempo de Bloque Sobreimpulso (BTO) porcentaje de vuelos con un tiempo de bloque real que excede el tiempo de bloque programado fue del 31%\n",
    "* El Indicador de Diferencia de Retraso en Vuelo (DDI -F), diferencia entra la salida y puntualidad de llegada expresada en minutos disminuyó en -2.9 minutos en Mayo del 2015 respecto del 2014\n",
    "\n",
    "### Identificación de las tareas críticas que ocasionan retrasos\n",
    "\n",
    "* Desde Junio del 2003 todas las aerolíneas reportan las causas totales de retrasos y cancelaciones a la Oficina de Estadística y Transporte\n",
    "* Para explicar el retraso se crearon las siguientes categorías:\n",
    "  * Air Carrier: Se debe a tareas de la aerolínea (mantenimiento, limpieza del avión, carga de combustible, equipaje de carga, etc.)\n",
    "  * Tiempo Extreme: Se debe a condiciones climatológicas (reales o previstas)\n",
    "  * Sistema de Aviación Nacional (NAS): Se atribuyen al sistema de aviación nacional en una gama amplia de condiciones\n",
    "  * Retrasos de vuelos: Un vuelo anterior con el mismo avión que llegó tarde.\n",
    "  * Seguridad: Puede deberse a evacuación de una terminal, re-acceso a la aeronave debido a una falla de seguridad, equipos de control averiados, etc.\n",
    "* Las categorías que más causan retrasos al 2015 son:\n",
    "  1. Retrasos en Vuelo\n",
    "  2. Air Carrier\n",
    "  3. NAS\n",
    "* Una característica que no está excenta de generar retrasos es el Turnaround o escalado de aeronaves el cual consiste en una serie de actividades que se realizan desde que se ha estacionado la aeronave hasta que el espacio físico queda libre para otra aeronave\n"
   ]
  },
  {
   "cell_type": "markdown",
   "metadata": {},
   "source": [
    "NOTA: Investigar retrasos de operaciones del aeropuerto de SCL"
   ]
  }
 ],
 "metadata": {
  "language_info": {
   "name": "python"
  },
  "orig_nbformat": 4
 },
 "nbformat": 4,
 "nbformat_minor": 2
}
